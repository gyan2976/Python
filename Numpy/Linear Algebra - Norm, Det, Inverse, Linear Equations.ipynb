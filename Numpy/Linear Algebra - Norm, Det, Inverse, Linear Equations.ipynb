{
  "nbformat": 4,
  "nbformat_minor": 0,
  "metadata": {
    "colab": {
      "provenance": []
    },
    "kernelspec": {
      "name": "python3",
      "display_name": "Python 3"
    },
    "language_info": {
      "name": "python"
    }
  },
  "cells": [
    {
      "cell_type": "markdown",
      "source": [
        "**Import Libraries**"
      ],
      "metadata": {
        "id": "Qe00PPvs4qhd"
      }
    },
    {
      "cell_type": "code",
      "execution_count": 1,
      "metadata": {
        "id": "t33m3b0y4TMN"
      },
      "outputs": [],
      "source": [
        "import numpy as np\n",
        "import matplotlib.pyplot as plt"
      ]
    },
    {
      "cell_type": "markdown",
      "source": [
        "**Norms**"
      ],
      "metadata": {
        "id": "85hwMwET5SNN"
      }
    },
    {
      "cell_type": "markdown",
      "source": [
        "- linalg : linear algebra\n",
        "- ord : order\n",
        "- inf : infinity"
      ],
      "metadata": {
        "id": "sVJye7g85WIN"
      }
    },
    {
      "cell_type": "code",
      "source": [
        "x = np.array([-3, 4])\n",
        "print(x)"
      ],
      "metadata": {
        "colab": {
          "base_uri": "https://localhost:8080/"
        },
        "id": "u7AlhWnq5n3C",
        "outputId": "53b69b76-f819-48a8-80ec-9ba7676ea298"
      },
      "execution_count": 2,
      "outputs": [
        {
          "output_type": "stream",
          "name": "stdout",
          "text": [
            "[-3  4]\n"
          ]
        }
      ]
    },
    {
      "cell_type": "code",
      "source": [
        "# If we want to compute Lp1 Norm\n",
        "# Here the output is 3 + 7(No square is done or under square root is taken in lp1)\n",
        "lp1 = np.linalg.norm(x, ord=1)\n",
        "print(lp1)"
      ],
      "metadata": {
        "colab": {
          "base_uri": "https://localhost:8080/"
        },
        "id": "ywP4pGoJ4pU_",
        "outputId": "aa9f7ba8-f40a-4beb-b87e-8606b6f2dcd4"
      },
      "execution_count": 3,
      "outputs": [
        {
          "output_type": "stream",
          "name": "stdout",
          "text": [
            "7.0\n"
          ]
        }
      ]
    },
    {
      "cell_type": "code",
      "source": [
        "# If we want to compute Lp2 Norm\n",
        "# Here the output is under root of 3 sq + 4 sq\n",
        "lp2 = np.linalg.norm(x, ord=2)\n",
        "print(lp2)"
      ],
      "metadata": {
        "colab": {
          "base_uri": "https://localhost:8080/"
        },
        "id": "b4LnDQHF5lFP",
        "outputId": "150c9dac-eb50-4986-e479-c69eea545d42"
      },
      "execution_count": 4,
      "outputs": [
        {
          "output_type": "stream",
          "name": "stdout",
          "text": [
            "5.0\n"
          ]
        }
      ]
    },
    {
      "cell_type": "code",
      "source": [
        "# If we want to compute Lp3 Norm\n",
        "lp3 = np.linalg.norm(x, ord=3)\n",
        "print(lp3)"
      ],
      "metadata": {
        "colab": {
          "base_uri": "https://localhost:8080/"
        },
        "id": "NRu-3xuV5-HF",
        "outputId": "4aaf038e-ee5f-4e47-fe68-7629f764aff9"
      },
      "execution_count": 5,
      "outputs": [
        {
          "output_type": "stream",
          "name": "stdout",
          "text": [
            "4.497941445275415\n"
          ]
        }
      ]
    },
    {
      "cell_type": "code",
      "source": [
        "# If we want to compute infinity norm\n",
        "# Here the output is the largest value in the vector.\n",
        "lpinf = np.linalg.norm(x, ord=np.inf)\n",
        "print(lpinf)"
      ],
      "metadata": {
        "colab": {
          "base_uri": "https://localhost:8080/"
        },
        "id": "uwetJncy6IkN",
        "outputId": "cbba98c8-4f92-45de-d543-e078e22365f9"
      },
      "execution_count": 6,
      "outputs": [
        {
          "output_type": "stream",
          "name": "stdout",
          "text": [
            "4.0\n"
          ]
        }
      ]
    },
    {
      "cell_type": "markdown",
      "source": [
        "**Determinants**"
      ],
      "metadata": {
        "id": "dBGdPzCB6smI"
      }
    },
    {
      "cell_type": "markdown",
      "source": [
        "Here the output is:\n",
        "- = 1*4 - 2*3\n",
        "- = 4 - 6\n",
        "- = -2"
      ],
      "metadata": {
        "id": "DSEAx-wb66Pq"
      }
    },
    {
      "cell_type": "code",
      "source": [
        "# If we want to calculate determinant of a matrix\n",
        "A = np.array([[1,2],\n",
        "             [3,4]])\n",
        "\n",
        "np.linalg.det(A)"
      ],
      "metadata": {
        "colab": {
          "base_uri": "https://localhost:8080/"
        },
        "id": "5EDmkMVc6P3z",
        "outputId": "9a983e19-6f52-4e35-fe3c-20979e9588d2"
      },
      "execution_count": 7,
      "outputs": [
        {
          "output_type": "execute_result",
          "data": {
            "text/plain": [
              "-2.0000000000000004"
            ]
          },
          "metadata": {},
          "execution_count": 7
        }
      ]
    },
    {
      "cell_type": "markdown",
      "source": [
        "**Inverse**"
      ],
      "metadata": {
        "id": "uRfbEDn07Fy-"
      }
    },
    {
      "cell_type": "code",
      "source": [
        "# If we want to calculate inverse of a matrix\n",
        "A = np.array([[1,2],\n",
        "             [3,4]])\n",
        "print(A)\n",
        "Ainv = np.linalg.inv(A)\n",
        "print(Ainv)"
      ],
      "metadata": {
        "colab": {
          "base_uri": "https://localhost:8080/"
        },
        "id": "mx69aDBh6P6v",
        "outputId": "c976ce8b-8af0-4d41-f8ce-e0de57c019ab"
      },
      "execution_count": 8,
      "outputs": [
        {
          "output_type": "stream",
          "name": "stdout",
          "text": [
            "[[1 2]\n",
            " [3 4]]\n",
            "[[-2.   1. ]\n",
            " [ 1.5 -0.5]]\n"
          ]
        }
      ]
    },
    {
      "cell_type": "markdown",
      "source": [
        "Here the output is something like\n",
        "- A.A^-1 = I\n",
        "  - 1 0\n",
        "  - 0 1"
      ],
      "metadata": {
        "id": "NxK3r3Fa72Ou"
      }
    },
    {
      "cell_type": "code",
      "source": [
        "# If we take a dot product of inverse matrix with A\n",
        "# The output is something like identity matrix\n",
        "print(np.dot(A,Ainv))"
      ],
      "metadata": {
        "colab": {
          "base_uri": "https://localhost:8080/"
        },
        "id": "KQKA_m_p6P9j",
        "outputId": "67079ea8-b013-4e3f-fb10-7bca261bd62b"
      },
      "execution_count": 9,
      "outputs": [
        {
          "output_type": "stream",
          "name": "stdout",
          "text": [
            "[[1.0000000e+00 0.0000000e+00]\n",
            " [8.8817842e-16 1.0000000e+00]]\n"
          ]
        }
      ]
    },
    {
      "cell_type": "code",
      "source": [
        "# If we want to compute Pseudo Inverse\n",
        "A = np.array([[1,2],\n",
        "             [3,4]])\n",
        "print(A)\n",
        "pinv = np.linalg.pinv(A)\n",
        "print(pinv)\n",
        "print(np.dot(A,pinv))"
      ],
      "metadata": {
        "colab": {
          "base_uri": "https://localhost:8080/"
        },
        "id": "H2LxBbAb6QAd",
        "outputId": "ce38ec3a-43fc-4bca-c5d4-83fb6457b748"
      },
      "execution_count": 10,
      "outputs": [
        {
          "output_type": "stream",
          "name": "stdout",
          "text": [
            "[[1 2]\n",
            " [3 4]]\n",
            "[[-2.   1. ]\n",
            " [ 1.5 -0.5]]\n",
            "[[ 1.00000000e+00 -6.66133815e-16]\n",
            " [ 1.77635684e-15  1.00000000e+00]]\n"
          ]
        }
      ]
    },
    {
      "cell_type": "code",
      "source": [
        "A = np.array([[6,8],\n",
        "             [3,4]])\n",
        "print(A)\n",
        "pinv = np.linalg.pinv(A)\n",
        "print(pinv)\n",
        "print(np.dot(A,pinv))"
      ],
      "metadata": {
        "colab": {
          "base_uri": "https://localhost:8080/"
        },
        "id": "2BrPzMT86QDM",
        "outputId": "d6901193-13f6-4eb2-cc56-7f5b4b2042d1"
      },
      "execution_count": 11,
      "outputs": [
        {
          "output_type": "stream",
          "name": "stdout",
          "text": [
            "[[6 8]\n",
            " [3 4]]\n",
            "[[0.048 0.024]\n",
            " [0.064 0.032]]\n",
            "[[0.8 0.4]\n",
            " [0.4 0.2]]\n"
          ]
        }
      ]
    },
    {
      "cell_type": "markdown",
      "source": [
        "**Linear Equations**"
      ],
      "metadata": {
        "id": "40vs9e4X8Pw9"
      }
    },
    {
      "cell_type": "markdown",
      "source": [
        "- Suppose, there are two equations\n",
        "    - 2x1 + 3x2 = 8\n",
        "    - 3x1 + 1x2 = 5\n",
        "- We have to calculate the value for vector x = [x1, x2]\n",
        "- Or we have to find the values of x1 and x2"
      ],
      "metadata": {
        "id": "gIr9KvjD8Tdt"
      }
    },
    {
      "cell_type": "code",
      "source": [
        "a = np.array([[2,3], [3,1]])\n",
        "b = np.array([8,5])\n",
        "\n",
        "print(a)\n",
        "print(b)"
      ],
      "metadata": {
        "colab": {
          "base_uri": "https://localhost:8080/"
        },
        "id": "3wyGchzl8JjS",
        "outputId": "a8fe7175-06a9-4c63-ccff-a7495c65ce49"
      },
      "execution_count": 12,
      "outputs": [
        {
          "output_type": "stream",
          "name": "stdout",
          "text": [
            "[[2 3]\n",
            " [3 1]]\n",
            "[8 5]\n"
          ]
        }
      ]
    },
    {
      "cell_type": "markdown",
      "source": [
        "Here the output is : x1 = 1, x2 = 2\n",
        "- 2(1) + 3(2) = 8\n",
        "- 3(1) + 1(2) = 5"
      ],
      "metadata": {
        "id": "qG6K3BUH8q9t"
      }
    },
    {
      "cell_type": "code",
      "source": [
        "np.linalg.solve(a, b)"
      ],
      "metadata": {
        "colab": {
          "base_uri": "https://localhost:8080/"
        },
        "id": "rt-PtQfe8lcL",
        "outputId": "2561f92a-c5d4-4fde-ef49-992aa9977d8b"
      },
      "execution_count": 13,
      "outputs": [
        {
          "output_type": "execute_result",
          "data": {
            "text/plain": [
              "array([1., 2.])"
            ]
          },
          "metadata": {},
          "execution_count": 13
        }
      ]
    }
  ]
}