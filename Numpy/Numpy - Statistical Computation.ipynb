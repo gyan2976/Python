{
  "nbformat": 4,
  "nbformat_minor": 0,
  "metadata": {
    "colab": {
      "provenance": []
    },
    "kernelspec": {
      "name": "python3",
      "display_name": "Python 3"
    },
    "language_info": {
      "name": "python"
    }
  },
  "cells": [
    {
      "cell_type": "markdown",
      "source": [
        "**Import Libraries**"
      ],
      "metadata": {
        "id": "YJBMqDFJO5wu"
      }
    },
    {
      "cell_type": "code",
      "execution_count": 1,
      "metadata": {
        "id": "GUMT-b6DNvpv"
      },
      "outputs": [],
      "source": [
        "import numpy as np"
      ]
    },
    {
      "cell_type": "markdown",
      "source": [
        "- min, max\n",
        "- mean\n",
        "- median\n",
        "- average\n",
        "- variance\n",
        "- standard deviation"
      ],
      "metadata": {
        "id": "Xp0Vm10UO-66"
      }
    },
    {
      "cell_type": "code",
      "source": [
        "a = np.array([[1,2,3,4],\n",
        "              [7,6,2,0]])\n",
        "print(a)"
      ],
      "metadata": {
        "colab": {
          "base_uri": "https://localhost:8080/"
        },
        "id": "PoLkYlimOkGS",
        "outputId": "53e21d57-8099-4110-9836-479e20fb02a4"
      },
      "execution_count": 2,
      "outputs": [
        {
          "output_type": "stream",
          "name": "stdout",
          "text": [
            "[[1 2 3 4]\n",
            " [7 6 2 0]]\n"
          ]
        }
      ]
    },
    {
      "cell_type": "markdown",
      "source": [
        "**min, max**"
      ],
      "metadata": {
        "id": "zAlGg4WtPkcT"
      }
    },
    {
      "cell_type": "code",
      "source": [
        "print('Minimum :', np.min(a))   # minimum element\n",
        "print('Maximum :', np.max(a))"
      ],
      "metadata": {
        "colab": {
          "base_uri": "https://localhost:8080/"
        },
        "id": "3EQaTjsLPPep",
        "outputId": "10b4e6fd-99a5-4eb7-b037-facc7969ecc4"
      },
      "execution_count": 3,
      "outputs": [
        {
          "output_type": "stream",
          "name": "stdout",
          "text": [
            "Minimum : 0\n",
            "Maximum : 7\n"
          ]
        }
      ]
    },
    {
      "cell_type": "code",
      "source": [
        "# Specify axis for direction in case of multidim array\n",
        "print(np.min(a, axis=0))\n",
        "print(np.min(a, axis=1))"
      ],
      "metadata": {
        "colab": {
          "base_uri": "https://localhost:8080/"
        },
        "id": "pr4EEgYaPUAQ",
        "outputId": "51eb66cc-3660-403b-fd13-82a5c61c1763"
      },
      "execution_count": 4,
      "outputs": [
        {
          "output_type": "stream",
          "name": "stdout",
          "text": [
            "[1 2 2 0]\n",
            "[1 0]\n"
          ]
        }
      ]
    },
    {
      "cell_type": "markdown",
      "source": [
        "**mean, median, average**"
      ],
      "metadata": {
        "id": "cuzam2S9P9BW"
      }
    },
    {
      "cell_type": "code",
      "source": [
        "# Mean, Average of all the elements\n",
        "b = np.array([1,2,3,4,5])\n",
        "m = sum(b)/5\n",
        "print(m)\n",
        "n = sum(b)//5\n",
        "print(n)\n",
        "print(np.mean(b))\n",
        "print(np.mean(a,axis=0))\n",
        "print(np.mean(a,axis=1))"
      ],
      "metadata": {
        "colab": {
          "base_uri": "https://localhost:8080/"
        },
        "id": "cm-9xv-1PVoY",
        "outputId": "07977544-4102-44e5-9b96-7ff7285d3701"
      },
      "execution_count": 5,
      "outputs": [
        {
          "output_type": "stream",
          "name": "stdout",
          "text": [
            "3.0\n",
            "3\n",
            "3.0\n",
            "[4.  4.  2.5 2. ]\n",
            "[2.5  3.75]\n"
          ]
        }
      ]
    },
    {
      "cell_type": "code",
      "source": [
        "# Median\n",
        "c = np.array([1,5,4,2,0])\n",
        "print(np.median(c))"
      ],
      "metadata": {
        "colab": {
          "base_uri": "https://localhost:8080/"
        },
        "id": "k3hLYrv7QEGn",
        "outputId": "c29bd119-950d-4e74-b133-b6b679e0ccf9"
      },
      "execution_count": 6,
      "outputs": [
        {
          "output_type": "stream",
          "name": "stdout",
          "text": [
            "2.0\n"
          ]
        }
      ]
    },
    {
      "cell_type": "code",
      "source": [
        "# Mean vs Average(It is weighted)\n",
        "print(np.mean(c))\n",
        "\n",
        "# Weights\n",
        "w = np.array([1,2,3,4,5])\n",
        "print(np.average(c, weights = w))\n",
        "\n",
        "w = np.array([1,1,1,1,1])\n",
        "print(np.average(c, weights = w))"
      ],
      "metadata": {
        "colab": {
          "base_uri": "https://localhost:8080/"
        },
        "id": "B2nMYzhgTNjA",
        "outputId": "8fe9ce41-afaa-490f-f846-6a15e645f8ff"
      },
      "execution_count": 7,
      "outputs": [
        {
          "output_type": "stream",
          "name": "stdout",
          "text": [
            "2.4\n",
            "2.066666666666667\n",
            "2.4\n"
          ]
        }
      ]
    },
    {
      "cell_type": "code",
      "source": [
        "# Standard Deviation\n",
        "u = np.mean(c)\n",
        "myStd = np.sqrt(np.mean(abs(c-u)**2))\n",
        "print(myStd)\n",
        "\n",
        "# Inbuilt Function for standard deviaton\n",
        "dev = np.std(c)\n",
        "print(dev)\n",
        "\n",
        "# Variance\n",
        "print(myStd**2)\n",
        "\n",
        "# Inbuilt Variance\n",
        "print(np.var(c))"
      ],
      "metadata": {
        "colab": {
          "base_uri": "https://localhost:8080/"
        },
        "id": "REI4BEyjTTL4",
        "outputId": "4c2b6439-8aa4-4235-88fe-219fc93e1d24"
      },
      "execution_count": 8,
      "outputs": [
        {
          "output_type": "stream",
          "name": "stdout",
          "text": [
            "1.854723699099141\n",
            "1.854723699099141\n",
            "3.440000000000001\n",
            "3.4400000000000004\n"
          ]
        }
      ]
    }
  ]
}