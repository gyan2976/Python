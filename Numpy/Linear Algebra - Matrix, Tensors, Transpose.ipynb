{
  "nbformat": 4,
  "nbformat_minor": 0,
  "metadata": {
    "colab": {
      "provenance": []
    },
    "kernelspec": {
      "name": "python3",
      "display_name": "Python 3"
    },
    "language_info": {
      "name": "python"
    }
  },
  "cells": [
    {
      "cell_type": "markdown",
      "source": [
        "**Import Libraries**"
      ],
      "metadata": {
        "id": "VxQdujT-YuYq"
      }
    },
    {
      "cell_type": "code",
      "execution_count": 1,
      "metadata": {
        "id": "fAdyk88QYN9i"
      },
      "outputs": [],
      "source": [
        "import numpy as np\n",
        "import matplotlib.pyplot as plt"
      ]
    },
    {
      "cell_type": "markdown",
      "source": [
        "**1. Scalars & Vectors**"
      ],
      "metadata": {
        "id": "dZihtZnsYpQL"
      }
    },
    {
      "cell_type": "markdown",
      "source": [
        "- Scalar is a single number, denoted as x\n",
        "- Vector is an array of scalars, denoted by x(x is italic)\n",
        "  - Thus, a vector has n scalars x1,x2,...,xn\n",
        "  - Note that indexing here begins with 1, unlike python(where it begins with 0)"
      ],
      "metadata": {
        "id": "DHtSgPZ_ZLky"
      }
    },
    {
      "cell_type": "code",
      "source": [
        "x = np.array([4,5,6])\n",
        "print(x)"
      ],
      "metadata": {
        "colab": {
          "base_uri": "https://localhost:8080/"
        },
        "id": "Di3S5Dc5ZKi5",
        "outputId": "b454b6a3-7ef0-4e2f-b6f9-ddc07acb12b5"
      },
      "execution_count": 2,
      "outputs": [
        {
          "output_type": "stream",
          "name": "stdout",
          "text": [
            "[4 5 6]\n"
          ]
        }
      ]
    },
    {
      "cell_type": "code",
      "source": [
        "# If we want to make column matrix\n",
        "x = np.array([[4],[5],[6]])\n",
        "print(x)\n",
        "print(x.shape)"
      ],
      "metadata": {
        "colab": {
          "base_uri": "https://localhost:8080/"
        },
        "id": "80ENylejZKxW",
        "outputId": "2bc7fdbb-85b4-4159-919d-3340a1a2882e"
      },
      "execution_count": 3,
      "outputs": [
        {
          "output_type": "stream",
          "name": "stdout",
          "text": [
            "[[4]\n",
            " [5]\n",
            " [6]]\n",
            "(3, 1)\n"
          ]
        }
      ]
    },
    {
      "cell_type": "markdown",
      "source": [
        "**2. Matrices & Tensors**"
      ],
      "metadata": {
        "id": "fASX2u4dZw68"
      }
    },
    {
      "cell_type": "markdown",
      "source": [
        "Matrix\n",
        "  - Matrix is a 2D array of scalars, denoted by X(X is italic)\n",
        "  - This matrix has m rows and n columns\n",
        "  - Each individual element such as X1,1 is a scalar\n",
        "  - If m = n, then matrix is known to be a \"Square Matrix\""
      ],
      "metadata": {
        "id": "twkfFCbnZ2rN"
      }
    },
    {
      "cell_type": "code",
      "source": [
        "X = np.array([[4, 5, 7],\n",
        "             [10, 11, 13],\n",
        "             [56, 80, 90]])\n",
        "\n",
        "print(X.shape)"
      ],
      "metadata": {
        "colab": {
          "base_uri": "https://localhost:8080/"
        },
        "id": "WZOo3v5zZK0G",
        "outputId": "46331462-1438-47b1-b1e8-c6a2b884dcff"
      },
      "execution_count": 4,
      "outputs": [
        {
          "output_type": "stream",
          "name": "stdout",
          "text": [
            "(3, 3)\n"
          ]
        }
      ]
    },
    {
      "cell_type": "code",
      "source": [
        "X = np.array([[4, 5, 7, 10],\n",
        "             [10, 11, 13, 11],\n",
        "             [56, 80, 90, 12]])\n",
        "\n",
        "print(X.shape)\n",
        "\n",
        "X = X.reshape(2,6)\n",
        "print(X)\n",
        "print(X.shape)\n",
        "\n",
        "# If we dont know how many rows or columns can be made then we put -1 in place of row or column.\n",
        "# 2 * column = 3 * 4 => column = 6\n",
        "# Therefore, the output is (2, 6)\n",
        "X = X.reshape(2,-1)\n",
        "print(X)\n",
        "print(X.shape)\n",
        "\n",
        "X = X.reshape(-1,2)\n",
        "print(X)\n",
        "print(X.shape)\n",
        "\n",
        "X = X.reshape(-1,1)\n",
        "print(X)\n",
        "print(X.shape)\n",
        "\n",
        "X = X.reshape(1,-1)\n",
        "print(X)\n",
        "print(X.shape)"
      ],
      "metadata": {
        "colab": {
          "base_uri": "https://localhost:8080/"
        },
        "id": "4zwgsF-1ZK2s",
        "outputId": "ebb73f59-5bc4-41fa-f8ef-44969fa31f38"
      },
      "execution_count": 5,
      "outputs": [
        {
          "output_type": "stream",
          "name": "stdout",
          "text": [
            "(3, 4)\n",
            "[[ 4  5  7 10 10 11]\n",
            " [13 11 56 80 90 12]]\n",
            "(2, 6)\n",
            "[[ 4  5  7 10 10 11]\n",
            " [13 11 56 80 90 12]]\n",
            "(2, 6)\n",
            "[[ 4  5]\n",
            " [ 7 10]\n",
            " [10 11]\n",
            " [13 11]\n",
            " [56 80]\n",
            " [90 12]]\n",
            "(6, 2)\n",
            "[[ 4]\n",
            " [ 5]\n",
            " [ 7]\n",
            " [10]\n",
            " [10]\n",
            " [11]\n",
            " [13]\n",
            " [11]\n",
            " [56]\n",
            " [80]\n",
            " [90]\n",
            " [12]]\n",
            "(12, 1)\n",
            "[[ 4  5  7 10 10 11 13 11 56 80 90 12]]\n",
            "(1, 12)\n"
          ]
        }
      ]
    },
    {
      "cell_type": "markdown",
      "source": [
        "Tensor\n",
        "- Tensor is an array with more than 2 axes, denoted as X(X is bold and not italic)\n",
        "- Think of Tensor as a generalisation of an array with more than 2 axes"
      ],
      "metadata": {
        "id": "YiNtyO-JeYLP"
      }
    },
    {
      "cell_type": "code",
      "source": [
        "# Tensors\n",
        "T = np.ones((2, 2, 3))\n",
        "print(T)\n",
        "\n",
        "print(\"\\n\")\n",
        "\n",
        "T = np.ones((2,2,5), dtype = 'uint8')       # uint8 = unsigned 8 bit integer\n",
        "print(T)\n",
        "print(type(T))"
      ],
      "metadata": {
        "colab": {
          "base_uri": "https://localhost:8080/"
        },
        "id": "k1XJ7y0eZK6V",
        "outputId": "9c88ecb3-2115-4c71-f8c6-3d886c786c9e"
      },
      "execution_count": 6,
      "outputs": [
        {
          "output_type": "stream",
          "name": "stdout",
          "text": [
            "[[[1. 1. 1.]\n",
            "  [1. 1. 1.]]\n",
            "\n",
            " [[1. 1. 1.]\n",
            "  [1. 1. 1.]]]\n",
            "\n",
            "\n",
            "[[[1 1 1 1 1]\n",
            "  [1 1 1 1 1]]\n",
            "\n",
            " [[1 1 1 1 1]\n",
            "  [1 1 1 1 1]]]\n",
            "<class 'numpy.ndarray'>\n"
          ]
        }
      ]
    },
    {
      "cell_type": "code",
      "source": [
        "T = np.zeros((5,5,3), dtype = 'uint8')\n",
        "print(T)\n",
        "# R - 0\n",
        "# G - 1\n",
        "# B - 2\n",
        "\n",
        "T[ : , : ,0] = 255     # Here 0 is channel(RGB)\n",
        "plt.imshow(T)        # imshow() - It shows 2D image\n",
        "plt.show()"
      ],
      "metadata": {
        "colab": {
          "base_uri": "https://localhost:8080/",
          "height": 933
        },
        "id": "iitI5OmIZK9H",
        "outputId": "2f796da6-44a5-46c0-ac08-ae7e631f1f2b"
      },
      "execution_count": 7,
      "outputs": [
        {
          "output_type": "stream",
          "name": "stdout",
          "text": [
            "[[[0 0 0]\n",
            "  [0 0 0]\n",
            "  [0 0 0]\n",
            "  [0 0 0]\n",
            "  [0 0 0]]\n",
            "\n",
            " [[0 0 0]\n",
            "  [0 0 0]\n",
            "  [0 0 0]\n",
            "  [0 0 0]\n",
            "  [0 0 0]]\n",
            "\n",
            " [[0 0 0]\n",
            "  [0 0 0]\n",
            "  [0 0 0]\n",
            "  [0 0 0]\n",
            "  [0 0 0]]\n",
            "\n",
            " [[0 0 0]\n",
            "  [0 0 0]\n",
            "  [0 0 0]\n",
            "  [0 0 0]\n",
            "  [0 0 0]]\n",
            "\n",
            " [[0 0 0]\n",
            "  [0 0 0]\n",
            "  [0 0 0]\n",
            "  [0 0 0]\n",
            "  [0 0 0]]]\n"
          ]
        },
        {
          "output_type": "display_data",
          "data": {
            "text/plain": [
              "<Figure size 640x480 with 1 Axes>"
            ],
            "image/png": "[encoded data removed]"
          },
          "metadata": {}
        }
      ]
    },
    {
      "cell_type": "code",
      "source": [
        "T[ : , : ,1] = 255     # Here 1 is channel(RGB)\n",
        "plt.imshow(T)        # imshow() - It shows 2D image\n",
        "plt.show()"
      ],
      "metadata": {
        "colab": {
          "base_uri": "https://localhost:8080/",
          "height": 430
        },
        "id": "uFPhGrMQcNHG",
        "outputId": "34e151cc-2ca5-40fa-8aa7-ad4ec9dbdd19"
      },
      "execution_count": 8,
      "outputs": [
        {
          "output_type": "display_data",
          "data": {
            "text/plain": [
              "<Figure size 640x480 with 1 Axes>"
            ],
            "image/png": "[encoded data removed]"
          },
          "metadata": {}
        }
      ]
    },
    {
      "cell_type": "code",
      "source": [
        "T[ : , : ,2] = 255     # Here 0 is channel(RGB)\n",
        "plt.imshow(T)        # imshow() - It shows 2D image\n",
        "plt.show()"
      ],
      "metadata": {
        "colab": {
          "base_uri": "https://localhost:8080/",
          "height": 430
        },
        "id": "aX5B65B9cW83",
        "outputId": "a7bb9513-aaaf-465d-e287-274b28518e31"
      },
      "execution_count": 9,
      "outputs": [
        {
          "output_type": "display_data",
          "data": {
            "text/plain": [
              "<Figure size 640x480 with 1 Axes>"
            ],
            "image/png": "[encoded data removed]"
          },
          "metadata": {}
        }
      ]
    },
    {
      "cell_type": "code",
      "source": [
        "T = np.zeros((50,25,3), dtype='uint8')\n",
        "T[ : , : ,2] = 255\n",
        "plt.imshow(T)\n",
        "plt.show()"
      ],
      "metadata": {
        "colab": {
          "base_uri": "https://localhost:8080/",
          "height": 432
        },
        "id": "vqAu40tmcaYH",
        "outputId": "a728f935-13d8-4797-cf49-4956d9f92b0a"
      },
      "execution_count": 10,
      "outputs": [
        {
          "output_type": "display_data",
          "data": {
            "text/plain": [
              "<Figure size 640x480 with 1 Axes>"
            ],
            "image/png": "[encoded data removed]"
          },
          "metadata": {}
        }
      ]
    },
    {
      "cell_type": "markdown",
      "source": [
        "**3. Transpose**"
      ],
      "metadata": {
        "id": "rNUaYRCycizA"
      }
    },
    {
      "cell_type": "markdown",
      "source": [
        "- For a 2D matrix transpose can be obtained as follows (A^T)i,j = (A)j,i\n",
        "- For a vector, transpose makes the column vector into a row\n",
        "- A column vector can also be represented as x(italic) = [x1, x2, x3]^T\n",
        "- T is used for transpose"
      ],
      "metadata": {
        "id": "3b1Jwb-VcqMy"
      }
    },
    {
      "cell_type": "markdown",
      "source": [
        "Matrix Transpose"
      ],
      "metadata": {
        "id": "J4NtAGlzdHNF"
      }
    },
    {
      "cell_type": "code",
      "source": [
        "X   # Row vector"
      ],
      "metadata": {
        "colab": {
          "base_uri": "https://localhost:8080/"
        },
        "id": "rv6qAGk9cdVH",
        "outputId": "6068b891-0249-4ce3-ddfb-238c24f51490"
      },
      "execution_count": 11,
      "outputs": [
        {
          "output_type": "execute_result",
          "data": {
            "text/plain": [
              "array([[ 4,  5,  7, 10, 10, 11, 13, 11, 56, 80, 90, 12]])"
            ]
          },
          "metadata": {},
          "execution_count": 11
        }
      ]
    },
    {
      "cell_type": "code",
      "source": [
        "X.T   # Column vector   # T is used for transpose"
      ],
      "metadata": {
        "colab": {
          "base_uri": "https://localhost:8080/"
        },
        "id": "nSyfURnEc1gQ",
        "outputId": "58c9cb73-d1ee-48b7-bf6d-6603522db975"
      },
      "execution_count": 12,
      "outputs": [
        {
          "output_type": "execute_result",
          "data": {
            "text/plain": [
              "array([[ 4],\n",
              "       [ 5],\n",
              "       [ 7],\n",
              "       [10],\n",
              "       [10],\n",
              "       [11],\n",
              "       [13],\n",
              "       [11],\n",
              "       [56],\n",
              "       [80],\n",
              "       [90],\n",
              "       [12]])"
            ]
          },
          "metadata": {},
          "execution_count": 12
        }
      ]
    },
    {
      "cell_type": "code",
      "source": [
        "print(X[0][1])"
      ],
      "metadata": {
        "colab": {
          "base_uri": "https://localhost:8080/"
        },
        "id": "t7930_Rwc6Yo",
        "outputId": "547bbd46-b467-4abf-a624-80c3b6bdf329"
      },
      "execution_count": 13,
      "outputs": [
        {
          "output_type": "stream",
          "name": "stdout",
          "text": [
            "5\n"
          ]
        }
      ]
    },
    {
      "cell_type": "code",
      "source": [
        "X = X.reshape((3,4))\n",
        "print(X)\n",
        "print(X.T)"
      ],
      "metadata": {
        "colab": {
          "base_uri": "https://localhost:8080/"
        },
        "id": "Mv4uQKH7dNwA",
        "outputId": "9c436340-5b22-40cd-8362-8f591f7e25cc"
      },
      "execution_count": 14,
      "outputs": [
        {
          "output_type": "stream",
          "name": "stdout",
          "text": [
            "[[ 4  5  7 10]\n",
            " [10 11 13 11]\n",
            " [56 80 90 12]]\n",
            "[[ 4 10 56]\n",
            " [ 5 11 80]\n",
            " [ 7 13 90]\n",
            " [10 11 12]]\n"
          ]
        }
      ]
    },
    {
      "cell_type": "markdown",
      "source": [
        "Tensor Transpose"
      ],
      "metadata": {
        "id": "g_oSK1isdTex"
      }
    },
    {
      "cell_type": "code",
      "source": [
        "T.shape"
      ],
      "metadata": {
        "colab": {
          "base_uri": "https://localhost:8080/"
        },
        "id": "4MdbfouJdQ4u",
        "outputId": "7d074c74-9f2d-438e-8a22-946209543709"
      },
      "execution_count": 15,
      "outputs": [
        {
          "output_type": "execute_result",
          "data": {
            "text/plain": [
              "(50, 25, 3)"
            ]
          },
          "metadata": {},
          "execution_count": 15
        }
      ]
    },
    {
      "cell_type": "code",
      "source": [
        "print(T[0][0])"
      ],
      "metadata": {
        "colab": {
          "base_uri": "https://localhost:8080/"
        },
        "id": "r_J-_9xxdXZ-",
        "outputId": "c41c66ee-b557-41fc-a39c-a4f9931fd10b"
      },
      "execution_count": 16,
      "outputs": [
        {
          "output_type": "stream",
          "name": "stdout",
          "text": [
            "[  0   0 255]\n"
          ]
        }
      ]
    },
    {
      "cell_type": "code",
      "source": [
        "print(T.shape)\n",
        "T1 = np.transpose(T)\n",
        "print(T1.shape)"
      ],
      "metadata": {
        "colab": {
          "base_uri": "https://localhost:8080/"
        },
        "id": "wXuzM6BodZiO",
        "outputId": "e2609e11-6a30-4794-c272-0667b8ae62cf"
      },
      "execution_count": 17,
      "outputs": [
        {
          "output_type": "stream",
          "name": "stdout",
          "text": [
            "(50, 25, 3)\n",
            "(3, 25, 50)\n"
          ]
        }
      ]
    },
    {
      "cell_type": "markdown",
      "source": [
        "Suppose we have to make permutation of this tensor\n",
        "- Here 3 is called 'Channel'\n",
        "- If 3 is in last then, it is called 'Channel last'\n",
        "- If 3 is in first then, it is called 'Channel first'\n",
        "- 50 represents number of rows\n",
        "- 25 represents number of columns\n",
        "- 3 is number of pixels stored in tensor i.e., RGB colours stored in form of tensor."
      ],
      "metadata": {
        "id": "6ol-_2TfduHc"
      }
    },
    {
      "cell_type": "code",
      "source": [
        "print(T.shape)\n",
        "T1 = np.transpose(T,axes=(0,2,1))\n",
        "print(T1.shape)"
      ],
      "metadata": {
        "colab": {
          "base_uri": "https://localhost:8080/"
        },
        "id": "rrTC3aW5dbuG",
        "outputId": "23825a3b-57cc-43dc-ce9b-b767871b8b53"
      },
      "execution_count": 18,
      "outputs": [
        {
          "output_type": "stream",
          "name": "stdout",
          "text": [
            "(50, 25, 3)\n",
            "(50, 3, 25)\n"
          ]
        }
      ]
    },
    {
      "cell_type": "code",
      "source": [
        "print(T.shape)\n",
        "T1 = np.transpose(T,axes=(2,0,1))\n",
        "print(T1.shape)"
      ],
      "metadata": {
        "colab": {
          "base_uri": "https://localhost:8080/"
        },
        "id": "icCCTulNdmRP",
        "outputId": "9ce9d17f-ec1d-438d-faec-93b01160ab9d"
      },
      "execution_count": 19,
      "outputs": [
        {
          "output_type": "stream",
          "name": "stdout",
          "text": [
            "(50, 25, 3)\n",
            "(3, 50, 25)\n"
          ]
        }
      ]
    },
    {
      "cell_type": "code",
      "source": [
        "T[0][0]"
      ],
      "metadata": {
        "colab": {
          "base_uri": "https://localhost:8080/"
        },
        "id": "f3OivW06dqYH",
        "outputId": "502e1516-69c9-447f-c51c-6819177b835e"
      },
      "execution_count": 20,
      "outputs": [
        {
          "output_type": "execute_result",
          "data": {
            "text/plain": [
              "array([  0,   0, 255], dtype=uint8)"
            ]
          },
          "metadata": {},
          "execution_count": 20
        }
      ]
    },
    {
      "cell_type": "code",
      "source": [
        "T1[0][0]"
      ],
      "metadata": {
        "colab": {
          "base_uri": "https://localhost:8080/"
        },
        "id": "bB_SQ2VDeDTA",
        "outputId": "6065e29f-4189-4a1c-9adc-9a320c2d522d"
      },
      "execution_count": 21,
      "outputs": [
        {
          "output_type": "execute_result",
          "data": {
            "text/plain": [
              "array([0, 0, 0, 0, 0, 0, 0, 0, 0, 0, 0, 0, 0, 0, 0, 0, 0, 0, 0, 0, 0, 0,\n",
              "       0, 0, 0], dtype=uint8)"
            ]
          },
          "metadata": {},
          "execution_count": 21
        }
      ]
    },
    {
      "cell_type": "code",
      "source": [
        "print(T[0][0].shape)"
      ],
      "metadata": {
        "colab": {
          "base_uri": "https://localhost:8080/"
        },
        "id": "kRhHe25feESY",
        "outputId": "3047baed-df63-4b08-a780-81f37e7f077f"
      },
      "execution_count": 22,
      "outputs": [
        {
          "output_type": "stream",
          "name": "stdout",
          "text": [
            "(3,)\n"
          ]
        }
      ]
    },
    {
      "cell_type": "code",
      "source": [
        "print(T1[0][0].shape)"
      ],
      "metadata": {
        "colab": {
          "base_uri": "https://localhost:8080/"
        },
        "id": "HHciNwSGeHUw",
        "outputId": "2f5e3dc4-b741-47fb-cbb0-8ed6b7772a8f"
      },
      "execution_count": 23,
      "outputs": [
        {
          "output_type": "stream",
          "name": "stdout",
          "text": [
            "(25,)\n"
          ]
        }
      ]
    }
  ]
}