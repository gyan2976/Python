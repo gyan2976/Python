{
  "nbformat": 4,
  "nbformat_minor": 0,
  "metadata": {
    "colab": {
      "provenance": []
    },
    "kernelspec": {
      "name": "python3",
      "display_name": "Python 3"
    },
    "language_info": {
      "name": "python"
    }
  },
  "cells": [
    {
      "cell_type": "markdown",
      "source": [
        "**Import Libraries**"
      ],
      "metadata": {
        "id": "wZQpY97znX1g"
      }
    },
    {
      "cell_type": "code",
      "execution_count": 1,
      "metadata": {
        "id": "_AEXZTdS5qR5"
      },
      "outputs": [],
      "source": [
        "import numpy as np"
      ]
    },
    {
      "cell_type": "markdown",
      "source": [
        "- rand : Random values in a given shape\n",
        "- randn : Return a sample(or samples) from the \"standard normal\" distribution\n",
        "- randint : Return random integers from low (inclusive) to high (exclusive)\n",
        "- random : Return random floats in half-open interval(0.0, 1.0)\n",
        "- choice : Generates a random sample from a given 1-D array\n",
        "- shuffle : Shuffles the contentsof a sequence"
      ],
      "metadata": {
        "id": "egMFAR2F9iHT"
      }
    },
    {
      "cell_type": "markdown",
      "source": [
        "**rand() - This function generates random numbers between 0 and 1**"
      ],
      "metadata": {
        "id": "Gup57pECqTBb"
      }
    },
    {
      "cell_type": "code",
      "source": [
        "a = np.random.rand()\n",
        "print(a)"
      ],
      "metadata": {
        "colab": {
          "base_uri": "https://localhost:8080/"
        },
        "id": "X03_c1NIpux1",
        "outputId": "78a35a98-1b7a-4767-dd5d-1f29ed7d61d6"
      },
      "execution_count": 2,
      "outputs": [
        {
          "output_type": "stream",
          "name": "stdout",
          "text": [
            "0.5579922522873494\n"
          ]
        }
      ]
    },
    {
      "cell_type": "code",
      "source": [
        "aa = np.random.rand(5)\n",
        "print(aa)"
      ],
      "metadata": {
        "colab": {
          "base_uri": "https://localhost:8080/"
        },
        "id": "cB67JaJBqL8L",
        "outputId": "9b93ba5e-1949-4fe5-8692-f76d13f3c6c4"
      },
      "execution_count": 3,
      "outputs": [
        {
          "output_type": "stream",
          "name": "stdout",
          "text": [
            "[0.01170372 0.97309743 0.22097095 0.96678708 0.09770364]\n"
          ]
        }
      ]
    },
    {
      "cell_type": "code",
      "source": [
        "aaa = np.random.rand(3, 3)\n",
        "print(aaa)"
      ],
      "metadata": {
        "colab": {
          "base_uri": "https://localhost:8080/"
        },
        "id": "_wf0gMnBpu0V",
        "outputId": "be878013-556f-49aa-c12d-223bd089f153"
      },
      "execution_count": 4,
      "outputs": [
        {
          "output_type": "stream",
          "name": "stdout",
          "text": [
            "[[0.91866424 0.62139909 0.06416994]\n",
            " [0.89948923 0.99100907 0.63549058]\n",
            " [0.69700411 0.20324219 0.05304174]]\n"
          ]
        }
      ]
    },
    {
      "cell_type": "code",
      "source": [
        "aaaa = np.random.rand(3, 3, 3)\n",
        "print(aaaa)"
      ],
      "metadata": {
        "colab": {
          "base_uri": "https://localhost:8080/"
        },
        "id": "iF2AQN3Hrg2e",
        "outputId": "df317ef6-b714-4737-ee8b-ee39b18153ea"
      },
      "execution_count": 5,
      "outputs": [
        {
          "output_type": "stream",
          "name": "stdout",
          "text": [
            "[[[0.98546455 0.09096274 0.03089269]\n",
            "  [0.57639651 0.11981652 0.37411129]\n",
            "  [0.80748952 0.45071821 0.53036177]]\n",
            "\n",
            " [[0.46917956 0.5451613  0.6510544 ]\n",
            "  [0.05119566 0.12837705 0.20708681]\n",
            "  [0.2859222  0.30641301 0.82676559]]\n",
            "\n",
            " [[0.56652101 0.19915291 0.4240586 ]\n",
            "  [0.42698251 0.84964754 0.02438536]\n",
            "  [0.21686799 0.4462618  0.35589443]]]\n"
          ]
        }
      ]
    },
    {
      "cell_type": "code",
      "source": [
        "# Round off the values upto .2f decimal place\n",
        "a = np.round(a, 2)\n",
        "aa = np.round(aa, 2)\n",
        "aaa = np.round(aaa, 2)\n",
        "aaaa = np.round(aaaa, 2)\n",
        "print('First :', a)\n",
        "print('Second :', aa)\n",
        "print('Third :', aaa)\n",
        "print('Fourth :', aaaa)"
      ],
      "metadata": {
        "colab": {
          "base_uri": "https://localhost:8080/"
        },
        "id": "PUpiLrQ8qkyi",
        "outputId": "362bfac1-b5d9-4347-d0d0-740591b8e8bf"
      },
      "execution_count": 6,
      "outputs": [
        {
          "output_type": "stream",
          "name": "stdout",
          "text": [
            "First : 0.56\n",
            "Second : [0.01 0.97 0.22 0.97 0.1 ]\n",
            "Third : [[0.92 0.62 0.06]\n",
            " [0.9  0.99 0.64]\n",
            " [0.7  0.2  0.05]]\n",
            "Fourth : [[[0.99 0.09 0.03]\n",
            "  [0.58 0.12 0.37]\n",
            "  [0.81 0.45 0.53]]\n",
            "\n",
            " [[0.47 0.55 0.65]\n",
            "  [0.05 0.13 0.21]\n",
            "  [0.29 0.31 0.83]]\n",
            "\n",
            " [[0.57 0.2  0.42]\n",
            "  [0.43 0.85 0.02]\n",
            "  [0.22 0.45 0.36]]]\n"
          ]
        }
      ]
    },
    {
      "cell_type": "markdown",
      "source": [
        "**randint() - This function generates +ve integers numbers**"
      ],
      "metadata": {
        "id": "y3CNTwLprJ8U"
      }
    },
    {
      "cell_type": "code",
      "source": [
        "b = np.random.randint(1)\n",
        "print(b)"
      ],
      "metadata": {
        "colab": {
          "base_uri": "https://localhost:8080/"
        },
        "id": "JyHWWMFLpu3T",
        "outputId": "70ac05df-01dd-4afd-9403-e8afbda71175"
      },
      "execution_count": 7,
      "outputs": [
        {
          "output_type": "stream",
          "name": "stdout",
          "text": [
            "0\n"
          ]
        }
      ]
    },
    {
      "cell_type": "code",
      "source": [
        "bb = np.random.randint(1, 5)\n",
        "print(bb)"
      ],
      "metadata": {
        "colab": {
          "base_uri": "https://localhost:8080/"
        },
        "id": "20_JI9gPpu6P",
        "outputId": "f8d51470-6a13-419c-8aca-a43ba97ebbc2"
      },
      "execution_count": 8,
      "outputs": [
        {
          "output_type": "stream",
          "name": "stdout",
          "text": [
            "1\n"
          ]
        }
      ]
    },
    {
      "cell_type": "code",
      "source": [
        "bbb = np.random.randint(1, 10, 5)\n",
        "print(bbb)"
      ],
      "metadata": {
        "colab": {
          "base_uri": "https://localhost:8080/"
        },
        "id": "KcnXER4TsHLn",
        "outputId": "6a8ea775-f89e-4507-de82-4cc1884e48dd"
      },
      "execution_count": 9,
      "outputs": [
        {
          "output_type": "stream",
          "name": "stdout",
          "text": [
            "[6 6 7 2 1]\n"
          ]
        }
      ]
    },
    {
      "cell_type": "code",
      "source": [
        "bbbb = np.random.randint(1, 10, size=(3, 3))\n",
        "print(bbbb)"
      ],
      "metadata": {
        "colab": {
          "base_uri": "https://localhost:8080/"
        },
        "id": "aN08emy1sRf_",
        "outputId": "417062c8-15dc-4897-d44b-ddc2eb76da5e"
      },
      "execution_count": 10,
      "outputs": [
        {
          "output_type": "stream",
          "name": "stdout",
          "text": [
            "[[7 8 6]\n",
            " [2 5 3]\n",
            " [2 1 2]]\n"
          ]
        }
      ]
    },
    {
      "cell_type": "markdown",
      "source": [
        "**uniform() - This function generates floats random numbers in any range**"
      ],
      "metadata": {
        "id": "xHPD5LQUsqet"
      }
    },
    {
      "cell_type": "code",
      "source": [
        "c = np.random.uniform()\n",
        "print(c)"
      ],
      "metadata": {
        "id": "gOkwwwGUslIB",
        "colab": {
          "base_uri": "https://localhost:8080/"
        },
        "outputId": "608084a2-4980-4fee-d47c-b1be3c5b1d78"
      },
      "execution_count": 11,
      "outputs": [
        {
          "output_type": "stream",
          "name": "stdout",
          "text": [
            "0.09956149880793397\n"
          ]
        }
      ]
    },
    {
      "cell_type": "code",
      "source": [
        "cc = np.random.uniform(1, 5)\n",
        "print(cc)"
      ],
      "metadata": {
        "id": "YkDrrP-pslT5",
        "colab": {
          "base_uri": "https://localhost:8080/"
        },
        "outputId": "5cb0da23-c53a-4b87-b181-154ad3d9bee7"
      },
      "execution_count": 12,
      "outputs": [
        {
          "output_type": "stream",
          "name": "stdout",
          "text": [
            "1.7279788217693826\n"
          ]
        }
      ]
    },
    {
      "cell_type": "code",
      "source": [
        "ccc = np.random.uniform(1, 10, 5)\n",
        "print(ccc)"
      ],
      "metadata": {
        "id": "JGCLI-oZslbe",
        "colab": {
          "base_uri": "https://localhost:8080/"
        },
        "outputId": "19b95894-dc4e-42be-8705-def40ee8bdc4"
      },
      "execution_count": 13,
      "outputs": [
        {
          "output_type": "stream",
          "name": "stdout",
          "text": [
            "[8.44709432 9.75978175 2.98260685 3.02324349 3.89011895]\n"
          ]
        }
      ]
    },
    {
      "cell_type": "code",
      "source": [
        "cccc = np.random.uniform(1, 10, size=(3, 3))\n",
        "print(cccc)"
      ],
      "metadata": {
        "id": "Dbwiq5Y1sleY",
        "colab": {
          "base_uri": "https://localhost:8080/"
        },
        "outputId": "1d86fe65-69d8-4c11-ac0d-a90ad5bd6b38"
      },
      "execution_count": 14,
      "outputs": [
        {
          "output_type": "stream",
          "name": "stdout",
          "text": [
            "[[5.21132221 5.18842396 5.39344714]\n",
            " [4.80329168 1.57863145 1.92897575]\n",
            " [6.52141593 4.79821254 2.63379497]]\n"
          ]
        }
      ]
    },
    {
      "cell_type": "code",
      "source": [
        "# Round off the values upto .2f decimal place\n",
        "c = np.round(c, 2)\n",
        "cc = np.round(cc, 2)\n",
        "ccc = np.round(ccc, 2)\n",
        "cccc = np.round(cccc, 2)\n",
        "print('First :', c)\n",
        "print('Second :', cc)\n",
        "print('Third :', ccc)\n",
        "print('Fourth :', cccc)"
      ],
      "metadata": {
        "id": "pp--3Ftcsljs",
        "colab": {
          "base_uri": "https://localhost:8080/"
        },
        "outputId": "232d5f2b-788c-47b2-bcf4-c1ca09df3569"
      },
      "execution_count": 15,
      "outputs": [
        {
          "output_type": "stream",
          "name": "stdout",
          "text": [
            "First : 0.1\n",
            "Second : 1.73\n",
            "Third : [8.45 9.76 2.98 3.02 3.89]\n",
            "Fourth : [[5.21 5.19 5.39]\n",
            " [4.8  1.58 1.93]\n",
            " [6.52 4.8  2.63]]\n"
          ]
        }
      ]
    },
    {
      "cell_type": "markdown",
      "source": [
        "**ranodm() - This function generates random numbers between 0 to 1, similar to rand() function but in a constrained way**"
      ],
      "metadata": {
        "id": "5gtDOMRf1Lyu"
      }
    },
    {
      "cell_type": "code",
      "source": [
        "e = np.random.random()\n",
        "print(e)"
      ],
      "metadata": {
        "colab": {
          "base_uri": "https://localhost:8080/"
        },
        "id": "mnVy0Ac40xgS",
        "outputId": "4e209ec1-38d9-4104-9b25-60be16ff28bb"
      },
      "execution_count": 16,
      "outputs": [
        {
          "output_type": "stream",
          "name": "stdout",
          "text": [
            "0.7557935468749449\n"
          ]
        }
      ]
    },
    {
      "cell_type": "code",
      "source": [
        "ee = np.random.random(3)\n",
        "print(ee)"
      ],
      "metadata": {
        "colab": {
          "base_uri": "https://localhost:8080/"
        },
        "id": "BuylPA-s02ct",
        "outputId": "bf797d92-8c4f-4c4a-86c9-d701029d6b5a"
      },
      "execution_count": 17,
      "outputs": [
        {
          "output_type": "stream",
          "name": "stdout",
          "text": [
            "[0.41407126 0.31317667 0.37910001]\n"
          ]
        }
      ]
    },
    {
      "cell_type": "code",
      "source": [
        "eee = np.random.random((3, 3))\n",
        "print(eee)"
      ],
      "metadata": {
        "colab": {
          "base_uri": "https://localhost:8080/"
        },
        "id": "7CNUWxyK08G1",
        "outputId": "d9f5bf9c-e765-49c8-bec7-894743175bd3"
      },
      "execution_count": 18,
      "outputs": [
        {
          "output_type": "stream",
          "name": "stdout",
          "text": [
            "[[0.74113542 0.55572733 0.48042472]\n",
            " [0.27810082 0.38566907 0.330248  ]\n",
            " [0.72245858 0.01236756 0.43375766]]\n"
          ]
        }
      ]
    },
    {
      "cell_type": "code",
      "source": [
        "# Round off the values upto .2f decimal place\n",
        "e = np.round(e, 2)\n",
        "ee = np.round(ee, 2)\n",
        "eee = np.round(eee, 2)\n",
        "print('First :', e)\n",
        "print('Second :', ee)\n",
        "print('Third :', eee)"
      ],
      "metadata": {
        "colab": {
          "base_uri": "https://localhost:8080/"
        },
        "id": "tm3naNNu1maz",
        "outputId": "96fad198-67ca-4a9d-f847-ff63518f68fd"
      },
      "execution_count": 19,
      "outputs": [
        {
          "output_type": "stream",
          "name": "stdout",
          "text": [
            "First : 0.76\n",
            "Second : [0.41 0.31 0.38]\n",
            "Third : [[0.74 0.56 0.48]\n",
            " [0.28 0.39 0.33]\n",
            " [0.72 0.01 0.43]]\n"
          ]
        }
      ]
    }
  ]
}