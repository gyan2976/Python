{
  "nbformat": 4,
  "nbformat_minor": 0,
  "metadata": {
    "colab": {
      "provenance": []
    },
    "kernelspec": {
      "name": "python3",
      "display_name": "Python 3"
    },
    "language_info": {
      "name": "python"
    }
  },
  "cells": [
    {
      "cell_type": "markdown",
      "source": [
        "**Import Libraries**"
      ],
      "metadata": {
        "id": "gc-PPhH-9qPi"
      }
    },
    {
      "cell_type": "code",
      "execution_count": 1,
      "metadata": {
        "id": "Chwu9RAB9aTK"
      },
      "outputs": [],
      "source": [
        "import numpy as np\n",
        "import matplotlib.pyplot as plt"
      ]
    },
    {
      "cell_type": "markdown",
      "source": [
        "**Broadcasting**"
      ],
      "metadata": {
        "id": "RvqkZD6a9tdh"
      }
    },
    {
      "cell_type": "markdown",
      "source": [
        "- You can add a scalar to a vector, and numpy will add it to each element in vector.\n",
        "  - x + a = (x)i + a\n",
        "- Similarly you can add a vector to a matrix, and numpy will add the vector to each column of the matrix."
      ],
      "metadata": {
        "id": "d0OiK10D9xHc"
      }
    },
    {
      "cell_type": "code",
      "source": [
        "x = np.array([1,2,3,4])\n",
        "print(x)"
      ],
      "metadata": {
        "colab": {
          "base_uri": "https://localhost:8080/"
        },
        "id": "fgJ9hTNr9pHG",
        "outputId": "f9e16c6b-fc1e-415d-f5ee-27549a7c67fc"
      },
      "execution_count": 2,
      "outputs": [
        {
          "output_type": "stream",
          "name": "stdout",
          "text": [
            "[1 2 3 4]\n"
          ]
        }
      ]
    },
    {
      "cell_type": "code",
      "source": [
        "# We can add any value to whole array\n",
        "print(x+4)"
      ],
      "metadata": {
        "colab": {
          "base_uri": "https://localhost:8080/"
        },
        "id": "z1eQsrE8-CCt",
        "outputId": "19ca2a06-291b-494d-a5ae-c7db6154712f"
      },
      "execution_count": 3,
      "outputs": [
        {
          "output_type": "stream",
          "name": "stdout",
          "text": [
            "[5 6 7 8]\n"
          ]
        }
      ]
    },
    {
      "cell_type": "markdown",
      "source": [
        "- This feature is called broadcasting.\n",
        "- It only work with numpy.\n",
        "- It will not work with normal python list."
      ],
      "metadata": {
        "id": "ih_-3duZ-Oo0"
      }
    },
    {
      "cell_type": "markdown",
      "source": [
        "Here,\n",
        "- x = 1 2 3 4\n",
        "- X = 10 20 30 40 40 50 60 70\n",
        "- X + x = (10+1) + (40+1) (20+2) + (50+2) (30+3) + (60+3) (40+4) + (70+4)"
      ],
      "metadata": {
        "id": "2BfZcPxo-pTp"
      }
    },
    {
      "cell_type": "code",
      "source": [
        "x = np.array([1,2,3,4])\n",
        "print(x)\n",
        "\n",
        "X = np.array([[10,20,30,40],\n",
        "             [40,50,60,70]])\n",
        "print(X)\n",
        "print(X + x)"
      ],
      "metadata": {
        "colab": {
          "base_uri": "https://localhost:8080/"
        },
        "id": "1C9ajCTi-HTJ",
        "outputId": "3a1dca3a-023e-4526-d396-b55b62da267d"
      },
      "execution_count": 4,
      "outputs": [
        {
          "output_type": "stream",
          "name": "stdout",
          "text": [
            "[1 2 3 4]\n",
            "[[10 20 30 40]\n",
            " [40 50 60 70]]\n",
            "[[11 22 33 44]\n",
            " [41 52 63 74]]\n"
          ]
        }
      ]
    },
    {
      "cell_type": "markdown",
      "source": [
        "**Matrix Multiplication**"
      ],
      "metadata": {
        "id": "ZOnrimdk-xO0"
      }
    },
    {
      "cell_type": "markdown",
      "source": [
        "This is perhaps one operation that you would use quite frequently in any ML/DL model. You should remember a few things about multiplication\n",
        "- C = AB is only defined when the second dimension of A matches the first dimension of B\n",
        "- Further, if A is of shape (m,n) and B of shape (n,p), then C is of shape (m,p)\n",
        "- This operation is concretely defined as (C)i,j = (Summation)k (A)i,k (B)k,j\n",
        "  - (C)i,j is computed by taking the dot product of i-th rwo of A with j-th column of B\n",
        "- A more useful method to think of matrix multipllication is as \"linear combination of columns\" of A weighted by column entries of B\n",
        "- Matrix multiplication is also referred as dot product\n",
        "- Time Complexity of this matrix multiplication is: T(C) = O(n^3)"
      ],
      "metadata": {
        "id": "pSid3pVp-36t"
      }
    },
    {
      "cell_type": "code",
      "source": [
        "# If we want to do matrix multiplication then we will use dot()\n",
        "A = np.array([[1,2],\n",
        "             [3,4]])\n",
        "\n",
        "B = np.array([[0,2],\n",
        "             [3,2]])\n",
        "\n",
        "C = np.dot(A,B)\n",
        "print(C)"
      ],
      "metadata": {
        "colab": {
          "base_uri": "https://localhost:8080/"
        },
        "id": "P5k1grvS-W-i",
        "outputId": "caf92f73-6a2b-4767-c4dd-a1852a732e6a"
      },
      "execution_count": 5,
      "outputs": [
        {
          "output_type": "stream",
          "name": "stdout",
          "text": [
            "[[ 6  6]\n",
            " [12 14]]\n"
          ]
        }
      ]
    },
    {
      "cell_type": "markdown",
      "source": [
        "**Hadamard Product - Element wise multiplication**"
      ],
      "metadata": {
        "id": "hRk3DZrV_MJH"
      }
    },
    {
      "cell_type": "markdown",
      "source": [
        "- Element wise multiplication A (circle symbol(inside circle (dot(symbol))) B\n",
        "- Notice how numpy uses the * for this. Important to be careful, and not to confuse this with matrix multiplication"
      ],
      "metadata": {
        "id": "TwuR3yob_VYo"
      }
    },
    {
      "cell_type": "markdown",
      "source": [
        "How is this working element wise multiplication. (Remember this is not matrix multiplication)\n",
        "- 1x0 = 0, 2x2 = 4\n",
        "- 3x3 = 9, 4x2 = 8"
      ],
      "metadata": {
        "id": "p6Tg2chr_gKc"
      }
    },
    {
      "cell_type": "code",
      "source": [
        "A = np.array([[1,2],\n",
        "             [3,4]])\n",
        "\n",
        "B = np.array([[0,2],\n",
        "             [3,2]])\n",
        "A*B"
      ],
      "metadata": {
        "colab": {
          "base_uri": "https://localhost:8080/"
        },
        "id": "0QyLQQ23_IW0",
        "outputId": "a8085ba5-a641-4107-8448-315ccff18013"
      },
      "execution_count": 6,
      "outputs": [
        {
          "output_type": "execute_result",
          "data": {
            "text/plain": [
              "array([[0, 4],\n",
              "       [9, 8]])"
            ]
          },
          "metadata": {},
          "execution_count": 6
        }
      ]
    }
  ]
}