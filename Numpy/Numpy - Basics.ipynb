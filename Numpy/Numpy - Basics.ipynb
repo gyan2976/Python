{
  "nbformat": 4,
  "nbformat_minor": 0,
  "metadata": {
    "colab": {
      "provenance": []
    },
    "kernelspec": {
      "name": "python3",
      "display_name": "Python 3"
    },
    "language_info": {
      "name": "python"
    }
  },
  "cells": [
    {
      "cell_type": "markdown",
      "source": [
        "**Import Libraries**"
      ],
      "metadata": {
        "id": "wZQpY97znX1g"
      }
    },
    {
      "cell_type": "code",
      "execution_count": 1,
      "metadata": {
        "id": "_AEXZTdS5qR5"
      },
      "outputs": [],
      "source": [
        "import numpy as np"
      ]
    },
    {
      "cell_type": "markdown",
      "source": [
        "**Arrays**"
      ],
      "metadata": {
        "id": "eowZ2Y6yndiF"
      }
    },
    {
      "cell_type": "code",
      "source": [
        "# 1D-Array\n",
        "x = np.array([1,2,3,4,5])\n",
        "print(x)\n",
        "print(type(x))\n",
        "print(x.shape)\n",
        "print(x.shape[0])"
      ],
      "metadata": {
        "id": "EtNiWQTd5wDN",
        "colab": {
          "base_uri": "https://localhost:8080/"
        },
        "outputId": "60fcf9be-1078-43c1-c799-f48a6b44425b"
      },
      "execution_count": 2,
      "outputs": [
        {
          "output_type": "stream",
          "name": "stdout",
          "text": [
            "[1 2 3 4 5]\n",
            "<class 'numpy.ndarray'>\n",
            "(5,)\n",
            "5\n"
          ]
        }
      ]
    },
    {
      "cell_type": "code",
      "source": [
        "# 2D-Array\n",
        "y = np.array([[1,2,3,4,5],\n",
        "              [6, 7, 8, 9, 10]])\n",
        "print(y)\n",
        "print(type(y))\n",
        "print(y.shape)\n",
        "print(y.shape[0])"
      ],
      "metadata": {
        "colab": {
          "base_uri": "https://localhost:8080/"
        },
        "id": "PnXHDriDnnWo",
        "outputId": "dcb85f31-ff84-431c-d0a1-6d2bf1d3918e"
      },
      "execution_count": 3,
      "outputs": [
        {
          "output_type": "stream",
          "name": "stdout",
          "text": [
            "[[ 1  2  3  4  5]\n",
            " [ 6  7  8  9 10]]\n",
            "<class 'numpy.ndarray'>\n",
            "(2, 5)\n",
            "2\n"
          ]
        }
      ]
    },
    {
      "cell_type": "code",
      "source": [
        "# Create array of zeros (0)\n",
        "z = np.zeros((3, 3))\n",
        "print(z)"
      ],
      "metadata": {
        "colab": {
          "base_uri": "https://localhost:8080/"
        },
        "id": "bg7WAkffoYcV",
        "outputId": "0d3e37fb-2527-47ee-8216-c56c2d1b46cb"
      },
      "execution_count": 4,
      "outputs": [
        {
          "output_type": "stream",
          "name": "stdout",
          "text": [
            "[[0. 0. 0.]\n",
            " [0. 0. 0.]\n",
            " [0. 0. 0.]]\n"
          ]
        }
      ]
    },
    {
      "cell_type": "code",
      "source": [
        "# Create array of ones (1)\n",
        "o = np.ones((3, 3))\n",
        "print(o)"
      ],
      "metadata": {
        "colab": {
          "base_uri": "https://localhost:8080/"
        },
        "id": "NA-VTb9dpAY-",
        "outputId": "7ff65d62-a571-4e3f-fefc-c0ca55e1adb5"
      },
      "execution_count": 5,
      "outputs": [
        {
          "output_type": "stream",
          "name": "stdout",
          "text": [
            "[[1. 1. 1.]\n",
            " [1. 1. 1.]\n",
            " [1. 1. 1.]]\n"
          ]
        }
      ]
    },
    {
      "cell_type": "code",
      "source": [
        "# Array as some constant\n",
        "c = np.full((3, 3), 5)\n",
        "print(c)"
      ],
      "metadata": {
        "colab": {
          "base_uri": "https://localhost:8080/"
        },
        "id": "L1Ph96TnpGT8",
        "outputId": "7d06118d-d622-48f1-ff11-ab8b04a8d56e"
      },
      "execution_count": 6,
      "outputs": [
        {
          "output_type": "stream",
          "name": "stdout",
          "text": [
            "[[5 5 5]\n",
            " [5 5 5]\n",
            " [5 5 5]]\n"
          ]
        }
      ]
    },
    {
      "cell_type": "markdown",
      "source": [
        "**Matrix**"
      ],
      "metadata": {
        "id": "utNz4jOG0bgK"
      }
    },
    {
      "cell_type": "code",
      "source": [
        "# Identity Matrix\n",
        "d = np.eye(3)\n",
        "print(d)"
      ],
      "metadata": {
        "id": "KMbiErSlpUzW",
        "colab": {
          "base_uri": "https://localhost:8080/"
        },
        "outputId": "db18258c-216b-48b0-f9f8-bf95c4ff00db"
      },
      "execution_count": 7,
      "outputs": [
        {
          "output_type": "stream",
          "name": "stdout",
          "text": [
            "[[1. 0. 0.]\n",
            " [0. 1. 0.]\n",
            " [0. 0. 1.]]\n"
          ]
        }
      ]
    },
    {
      "cell_type": "code",
      "source": [
        "# Random Matrix - We can create random matrix using all these function\n",
        "# 1. rand() : gives numbers between 0 and 1\n",
        "# 2. random() : gives numbers between 0 and 1\n",
        "# 3. randint() : gives positive integers numbers between 0 to infinity\n",
        "# 4. uniform() : gives float integers numbers between (-)inifnity to (+)infinity\n",
        "\n",
        "arr1 = np.random.randint(1, 10, size=(2, 2))\n",
        "arr1 = np.round(arr1, 2)\n",
        "print(arr1)\n",
        "print('\\n')\n",
        "arr2 = np.random.randint(1, 10, size=(2, 2))\n",
        "arr2 = np.round(arr2, 2)\n",
        "print(arr2)"
      ],
      "metadata": {
        "colab": {
          "base_uri": "https://localhost:8080/"
        },
        "id": "Ksb86o4_0opM",
        "outputId": "4bebcb96-ce7c-4dcb-bdd1-c4434e669a04"
      },
      "execution_count": 8,
      "outputs": [
        {
          "output_type": "stream",
          "name": "stdout",
          "text": [
            "[[3 5]\n",
            " [5 8]]\n",
            "\n",
            "\n",
            "[[5 9]\n",
            " [3 7]]\n"
          ]
        }
      ]
    },
    {
      "cell_type": "markdown",
      "source": [
        "**Mathematical Operations - Addition, Subtraction, Multiplication, Division**"
      ],
      "metadata": {
        "id": "er49ZMET3deG"
      }
    },
    {
      "cell_type": "code",
      "source": [
        "# Element Wise Operations\n",
        "print('Addition')\n",
        "print(arr1 + arr2)\n",
        "print(np.add(arr1, arr2))\n",
        "print(\"\\n\")\n",
        "\n",
        "print('Subtraction')\n",
        "print(arr1 - arr2)\n",
        "print(np.subtract(arr1, arr2))\n",
        "print(\"\\n\")\n",
        "\n",
        "print('Multiplication')\n",
        "print(arr1 * arr2)\n",
        "print(np.multiply(arr1, arr2))\n",
        "print(\"\\n\")\n",
        "\n",
        "print('Division')\n",
        "print(arr1 / arr2)\n",
        "print(np.divide(arr1, arr2))"
      ],
      "metadata": {
        "colab": {
          "base_uri": "https://localhost:8080/"
        },
        "id": "PhEKkcy93HhM",
        "outputId": "c1838fb6-8bad-48da-a231-f18ee6a34e82"
      },
      "execution_count": 9,
      "outputs": [
        {
          "output_type": "stream",
          "name": "stdout",
          "text": [
            "Addition\n",
            "[[ 8 14]\n",
            " [ 8 15]]\n",
            "[[ 8 14]\n",
            " [ 8 15]]\n",
            "\n",
            "\n",
            "Subtraction\n",
            "[[-2 -4]\n",
            " [ 2  1]]\n",
            "[[-2 -4]\n",
            " [ 2  1]]\n",
            "\n",
            "\n",
            "Multiplication\n",
            "[[15 45]\n",
            " [15 56]]\n",
            "[[15 45]\n",
            " [15 56]]\n",
            "\n",
            "\n",
            "Division\n",
            "[[0.6        0.55555556]\n",
            " [1.66666667 1.14285714]]\n",
            "[[0.6        0.55555556]\n",
            " [1.66666667 1.14285714]]\n"
          ]
        }
      ]
    },
    {
      "cell_type": "code",
      "source": [
        "# Element wise Square Root\n",
        "print(np.sqrt(arr1))\n",
        "print('\\n')\n",
        "print(np.sqrt(arr2))"
      ],
      "metadata": {
        "colab": {
          "base_uri": "https://localhost:8080/"
        },
        "id": "nDm9jTxD4ex1",
        "outputId": "98b1b81d-3645-4cde-9607-aeb635692302"
      },
      "execution_count": 10,
      "outputs": [
        {
          "output_type": "stream",
          "name": "stdout",
          "text": [
            "[[1.73205081 2.23606798]\n",
            " [2.23606798 2.82842712]]\n",
            "\n",
            "\n",
            "[[2.23606798 3.        ]\n",
            " [1.73205081 2.64575131]]\n"
          ]
        }
      ]
    },
    {
      "cell_type": "markdown",
      "source": [
        "**Matrix Multiplication**"
      ],
      "metadata": {
        "id": "0eCHMSU56HDb"
      }
    },
    {
      "cell_type": "code",
      "source": [
        "# Dot Product\n",
        "print('arr1 \\n', arr1)\n",
        "print('arr2 \\n', arr2)\n",
        "\n",
        "print('\\n')\n",
        "\n",
        "print(arr1.dot(arr2))\n",
        "print(np.dot(arr1, arr2))"
      ],
      "metadata": {
        "colab": {
          "base_uri": "https://localhost:8080/"
        },
        "id": "bV9DOGZG51aL",
        "outputId": "f00135f8-8075-4829-9a3d-90eee0065187"
      },
      "execution_count": 11,
      "outputs": [
        {
          "output_type": "stream",
          "name": "stdout",
          "text": [
            "arr1 \n",
            " [[3 5]\n",
            " [5 8]]\n",
            "arr2 \n",
            " [[5 9]\n",
            " [3 7]]\n",
            "\n",
            "\n",
            "[[ 30  62]\n",
            " [ 49 101]]\n",
            "[[ 30  62]\n",
            " [ 49 101]]\n"
          ]
        }
      ]
    },
    {
      "cell_type": "code",
      "source": [
        "# Multiplication(Dot product) of Vectors => Scalar\n",
        "a = np.array([1,2,3,4])\n",
        "b = np.array([1,2,3,4])\n",
        "print(a.dot(b))"
      ],
      "metadata": {
        "colab": {
          "base_uri": "https://localhost:8080/"
        },
        "id": "ilq7rawb6cDo",
        "outputId": "ad4b16d4-f672-4bd0-b4da-16df27c3c077"
      },
      "execution_count": 12,
      "outputs": [
        {
          "output_type": "stream",
          "name": "stdout",
          "text": [
            "30\n"
          ]
        }
      ]
    },
    {
      "cell_type": "code",
      "source": [
        "# Sum of Array\n",
        "print(a)\n",
        "print(sum(a))"
      ],
      "metadata": {
        "colab": {
          "base_uri": "https://localhost:8080/"
        },
        "id": "NGRPVbxH6xZT",
        "outputId": "cc054fa0-e91f-4616-b5b2-02cc6dc4e9c2"
      },
      "execution_count": 13,
      "outputs": [
        {
          "output_type": "stream",
          "name": "stdout",
          "text": [
            "[1 2 3 4]\n",
            "10\n"
          ]
        }
      ]
    },
    {
      "cell_type": "code",
      "source": [
        "# Adding Matrix Row Wise and Column Wise\n",
        "x = np.array([[1,2],[3,4]])\n",
        "y = np.array([[5,6],[7,8]])\n",
        "\n",
        "print(x)\n",
        "print('Sum :', np.sum(x))\n",
        "print('Row :', np.sum(x,axis=0))  # Direction = row\n",
        "print('Column :', np.sum(x,axis=1))  # Direction = column"
      ],
      "metadata": {
        "colab": {
          "base_uri": "https://localhost:8080/"
        },
        "id": "rz5TVBVb63-b",
        "outputId": "ab04b7ac-1d13-4799-863d-2509d80ecaa6"
      },
      "execution_count": 14,
      "outputs": [
        {
          "output_type": "stream",
          "name": "stdout",
          "text": [
            "[[1 2]\n",
            " [3 4]]\n",
            "Sum : 10\n",
            "Row : [4 6]\n",
            "Column : [3 7]\n"
          ]
        }
      ]
    },
    {
      "cell_type": "code",
      "source": [
        "# Stacking of Arrays\n",
        "x = np.array([[1,2],[3,4]])\n",
        "y = np.array([[5,6],[7,8]])"
      ],
      "metadata": {
        "id": "5XeYqjcD7GIL"
      },
      "execution_count": 15,
      "outputs": []
    },
    {
      "cell_type": "code",
      "source": [
        "print(x)\n",
        "y = y**2\n",
        "print(y)"
      ],
      "metadata": {
        "colab": {
          "base_uri": "https://localhost:8080/"
        },
        "id": "ZJ75Qn-V76Y8",
        "outputId": "2e84e181-2f31-44c7-fd28-80d5c0bc2141"
      },
      "execution_count": 16,
      "outputs": [
        {
          "output_type": "stream",
          "name": "stdout",
          "text": [
            "[[1 2]\n",
            " [3 4]]\n",
            "[[25 36]\n",
            " [49 64]]\n"
          ]
        }
      ]
    },
    {
      "cell_type": "code",
      "source": [
        "print(np.stack((x, y),axis=0))"
      ],
      "metadata": {
        "colab": {
          "base_uri": "https://localhost:8080/"
        },
        "id": "hHeicc7n79bs",
        "outputId": "7d0d197d-c860-4fc6-e0e2-dc8dd2225089"
      },
      "execution_count": 17,
      "outputs": [
        {
          "output_type": "stream",
          "name": "stdout",
          "text": [
            "[[[ 1  2]\n",
            "  [ 3  4]]\n",
            "\n",
            " [[25 36]\n",
            "  [49 64]]]\n"
          ]
        }
      ]
    },
    {
      "cell_type": "code",
      "source": [
        "print(np.stack((x, y),axis=1))"
      ],
      "metadata": {
        "colab": {
          "base_uri": "https://localhost:8080/"
        },
        "id": "sndQIGSa8ECj",
        "outputId": "03cec191-a926-48a9-ba02-fcddc4997a49"
      },
      "execution_count": 18,
      "outputs": [
        {
          "output_type": "stream",
          "name": "stdout",
          "text": [
            "[[[ 1  2]\n",
            "  [25 36]]\n",
            "\n",
            " [[ 3  4]\n",
            "  [49 64]]]\n"
          ]
        }
      ]
    },
    {
      "cell_type": "code",
      "source": [
        "# Reshaping of Array\n",
        "a = np.array([1,2,3,4])\n",
        "b = np.array([1,2,3,4])"
      ],
      "metadata": {
        "id": "_PO4KQzU8J3z"
      },
      "execution_count": 19,
      "outputs": []
    },
    {
      "cell_type": "code",
      "source": [
        "print(a)\n",
        "a = a.reshape((2, 2))\n",
        "print(a)"
      ],
      "metadata": {
        "colab": {
          "base_uri": "https://localhost:8080/"
        },
        "id": "3hk048Yb8hWz",
        "outputId": "8ee826fe-be6c-470b-fa70-1f46b19ce41c"
      },
      "execution_count": 20,
      "outputs": [
        {
          "output_type": "stream",
          "name": "stdout",
          "text": [
            "[1 2 3 4]\n",
            "[[1 2]\n",
            " [3 4]]\n"
          ]
        }
      ]
    },
    {
      "cell_type": "code",
      "source": [
        "b = b.reshape(-1, 1)\n",
        "print(b)"
      ],
      "metadata": {
        "colab": {
          "base_uri": "https://localhost:8080/"
        },
        "id": "kLstKhFX8tVM",
        "outputId": "59eddad3-511d-4363-fa0b-309d60b874fa"
      },
      "execution_count": 21,
      "outputs": [
        {
          "output_type": "stream",
          "name": "stdout",
          "text": [
            "[[1]\n",
            " [2]\n",
            " [3]\n",
            " [4]]\n"
          ]
        }
      ]
    }
  ]
}